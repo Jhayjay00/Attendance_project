{
  "nbformat": 4,
  "nbformat_minor": 0,
  "metadata": {
    "colab": {
      "provenance": [],
      "authorship_tag": "ABX9TyPDKN6PluZTJykEQFym8CHJ",
      "include_colab_link": true
    },
    "kernelspec": {
      "name": "python3",
      "display_name": "Python 3"
    },
    "language_info": {
      "name": "python"
    }
  },
  "cells": [
    {
      "cell_type": "markdown",
      "metadata": {
        "id": "view-in-github",
        "colab_type": "text"
      },
      "source": [
        "<a href=\"https://colab.research.google.com/github/Jhayjay00/Attendance_project/blob/master/convalutionary_neural_network.ipynb\" target=\"_parent\"><img src=\"https://colab.research.google.com/assets/colab-badge.svg\" alt=\"Open In Colab\"/></a>"
      ]
    },
    {
      "cell_type": "code",
      "execution_count": 5,
      "metadata": {
        "colab": {
          "base_uri": "https://localhost:8080/"
        },
        "id": "6EaSxX3BdZ1n",
        "outputId": "bcd9d5f3-3f05-4321-f53c-e4f487a0cdc4"
      },
      "outputs": [
        {
          "output_type": "stream",
          "name": "stdout",
          "text": [
            "Epoch 1/5\n",
            "750/750 [==============================] - 54s 69ms/step - loss: 0.2069 - accuracy: 0.9368 - val_loss: 0.0747 - val_accuracy: 0.9777\n",
            "Epoch 2/5\n",
            "750/750 [==============================] - 56s 74ms/step - loss: 0.0566 - accuracy: 0.9819 - val_loss: 0.0536 - val_accuracy: 0.9834\n",
            "Epoch 3/5\n",
            "750/750 [==============================] - 56s 74ms/step - loss: 0.0391 - accuracy: 0.9873 - val_loss: 0.0447 - val_accuracy: 0.9859\n",
            "Epoch 4/5\n",
            "750/750 [==============================] - 51s 68ms/step - loss: 0.0327 - accuracy: 0.9895 - val_loss: 0.0540 - val_accuracy: 0.9838\n",
            "Epoch 5/5\n",
            "750/750 [==============================] - 54s 72ms/step - loss: 0.0245 - accuracy: 0.9920 - val_loss: 0.0462 - val_accuracy: 0.9868\n",
            "313/313 [==============================] - 4s 11ms/step - loss: 0.0359 - accuracy: 0.9882\n",
            "Test accuracy: 0.9882000088691711\n"
          ]
        }
      ],
      "source": [
        "import tensorflow as tf\n",
        "from tensorflow.keras import layers, models\n",
        "from tensorflow.keras.datasets import mnist\n",
        "from tensorflow.keras.utils import to_categorical\n",
        "\n",
        "#Load and processing MNIST dataset\n",
        "(x_train, y_train), (x_test, y_test) = mnist.load_data()\n",
        "train_images = x_train.reshape((60000, 28, 28, 1)).astype('float32') / 255\n",
        "test_images = x_test.reshape((10000, 28, 28, 1)).astype('float32') / 255\n",
        "\n",
        "# Use y_train as input to to_categorical\n",
        "train_labels = to_categorical(y_train)\n",
        "test_labels = to_categorical(y_test)\n",
        "\n",
        "\n",
        "#Creating the CNN\n",
        "model = models.Sequential()\n",
        "\n",
        "#input layer, where we set kernel size, activation function, and input shape\n",
        "model.add(layers.Conv2D(32, (3, 3), activation='relu', input_shape=(28, 28, 1)))\n",
        "model.add(layers.MaxPooling2D((2, 2)))\n",
        "model.add(layers.Conv2D(64, (3, 3), activation='relu'))\n",
        "model.add(layers.MaxPooling2D((2, 2)))\n",
        "model.add(layers.Conv2D(64, (3, 3), activation='relu'))\n",
        "model.add(layers.Flatten())\n",
        "model.add(layers.Dense(64, activation='relu'))\n",
        "model.add(layers.Dense(10, activation='softmax'))\n",
        "\n",
        "#compile the model\n",
        "model.compile(optimizer='adam',\n",
        "              loss='categorical_crossentropy',\n",
        "              metrics=['accuracy'])\n",
        "\n",
        "#Train the model\n",
        "model.fit(train_images, train_labels, epochs=5, batch_size=64, validation_split=0.2)\n",
        "\n",
        "test_loss, test_acc = model.evaluate(test_images, test_labels)\n",
        "print(f'Test accuracy: {test_acc}')\n",
        "\n"
      ]
    }
  ]
}